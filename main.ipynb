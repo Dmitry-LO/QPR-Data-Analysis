{
 "cells": [
  {
   "cell_type": "code",
   "execution_count": null,
   "metadata": {},
   "outputs": [],
   "source": [
    "import pandas as pd\n",
    "import matplotlib.pyplot as plt\n",
    "\n",
    "# Assuming 'nfile' is the DataFrame from the combined .txt files\n",
    "# Example data structure\n",
    "# nfile = pd.read_csv(\"combined_output.csv\")\n",
    "\n",
    "# Define intervals for 'Peak Field on Sample [mT]'\n",
    "intervals = [\n",
    "    {\"center\": 20, \"tolerance\": 3},\n",
    "    {\"center\": 30, \"tolerance\": 3},\n",
    "    {\"center\": 40, \"tolerance\": 5},\n",
    "    {\"center\": 50, \"tolerance\": 5}\n",
    "]\n",
    "\n",
    "results = []\n",
    "\n",
    "# Calculate mean and standard deviation for each interval\n",
    "for interval in intervals:\n",
    "    lower_bound = interval[\"center\"] - interval[\"tolerance\"]\n",
    "    upper_bound = interval[\"center\"] + interval[\"tolerance\"]\n",
    "    \n",
    "    # Filter data within the interval\n",
    "    filtered_data = nfile[\n",
    "        (nfile[\"Peak Field on Sample [mT]\"] >= lower_bound) & \n",
    "        (nfile[\"Peak Field on Sample [mT]\"] <= upper_bound)\n",
    "    ]\n",
    "    \n",
    "    # Calculate mean and standard deviation\n",
    "    mean_resistance = filtered_data[\"Surface Resistance [nOhm]\"].mean()\n",
    "    std_resistance = filtered_data[\"Surface Resistance [nOhm]\"].std()\n",
    "    \n",
    "    # Append results\n",
    "    results.append({\n",
    "        \"Interval\": f\"{interval['center']}±{interval['tolerance']}\",\n",
    "        \"Mean Resistance (nOhm)\": mean_resistance,\n",
    "        \"Std Resistance (nOhm)\": std_resistance\n",
    "    })\n",
    "\n",
    "# Create a new DataFrame for results\n",
    "results_df = pd.DataFrame(results)\n",
    "\n",
    "# Save the results to a CSV file\n",
    "results_df.to_csv(\"resistance_analysis.csv\", index=False)\n",
    "\n",
    "# Print the results\n",
    "print(results_df)\n",
    "\n",
    "# Plot the results\n",
    "plt.errorbar(\n",
    "    results_df[\"Interval\"],\n",
    "    results_df[\"Mean Resistance (nOhm)\"],\n",
    "    yerr=results_df[\"Std Resistance (nOhm)\"],\n",
    "    fmt='o',\n",
    "    capsize=5,\n",
    "    label=\"Surface Resistance\"\n",
    ")\n",
    "\n",
    "plt.title(\"Surface Resistance Analysis\")\n",
    "plt.xlabel(\"Peak Field Interval [mT]\")\n",
    "plt.ylabel(\"Surface Resistance [nOhm]\")\n",
    "plt.grid(True)\n",
    "plt.legend()\n",
    "plt.savefig(\"resistance_analysis_plot.pdf\", format=\"pdf\", bbox_inches=\"tight\")\n",
    "plt.show()\n"
   ]
  },
  {
   "cell_type": "code",
   "execution_count": null,
   "metadata": {},
   "outputs": [
    {
     "name": "stdout",
     "output_type": "stream",
     "text": [
      "['D:\\\\PhD\\\\QPR Data\\\\2022-04-04 - test #36 - ARIES B-3.19 Siegen SIS\\\\2022-04-04 411MHz Rs(B)_Measurements_Run1 2.00K.txt', 'D:\\\\PhD\\\\QPR Data\\\\2022-04-04 - test #36 - ARIES B-3.19 Siegen SIS\\\\2022-04-04 411MHz Rs(B)_Measurements_Run1 2.25K.txt', 'D:\\\\PhD\\\\QPR Data\\\\2022-04-04 - test #36 - ARIES B-3.19 Siegen SIS\\\\2022-04-04 411MHz Rs(B)_Measurements_Run1 2.50K.txt', 'D:\\\\PhD\\\\QPR Data\\\\2022-04-04 - test #36 - ARIES B-3.19 Siegen SIS\\\\2022-04-04 411MHz Rs(B)_Measurements_Run1 2.75K.txt', 'D:\\\\PhD\\\\QPR Data\\\\2022-04-04 - test #36 - ARIES B-3.19 Siegen SIS\\\\2022-04-04 411MHz Rs(B)_Measurements_Run1 3.00K.txt', 'D:\\\\PhD\\\\QPR Data\\\\2022-04-04 - test #36 - ARIES B-3.19 Siegen SIS\\\\2022-04-04 411MHz Rs(B)_Measurements_Run1 3.25K.txt', 'D:\\\\PhD\\\\QPR Data\\\\2022-04-04 - test #36 - ARIES B-3.19 Siegen SIS\\\\2022-04-04 411MHz Rs(B)_Measurements_Run1 3.50K.txt', 'D:\\\\PhD\\\\QPR Data\\\\2022-04-04 - test #36 - ARIES B-3.19 Siegen SIS\\\\2022-04-04 411MHz Rs(B)_Measurements_Run1 3.75K.txt', 'D:\\\\PhD\\\\QPR Data\\\\2022-04-04 - test #36 - ARIES B-3.19 Siegen SIS\\\\2022-04-04 411MHz Rs(B)_Measurements_Run1 4.00K.txt', 'D:\\\\PhD\\\\QPR Data\\\\2022-04-04 - test #36 - ARIES B-3.19 Siegen SIS\\\\2022-04-04 411MHz Rs(B)_Measurements_Run1 4.50K.txt', 'D:\\\\PhD\\\\QPR Data\\\\2022-04-04 - test #36 - ARIES B-3.19 Siegen SIS\\\\2022-04-04 411MHz test run 1.00K.txt', 'D:\\\\PhD\\\\QPR Data\\\\2022-04-04 - test #36 - ARIES B-3.19 Siegen SIS\\\\2022-04-04 411MHz test run 2.00K.txt', 'D:\\\\PhD\\\\QPR Data\\\\2022-04-04 - test #36 - ARIES B-3.19 Siegen SIS\\\\2022-04-05 411MHz Rs(B)_Measurements_Run1 4.50K.txt', 'D:\\\\PhD\\\\QPR Data\\\\2022-04-04 - test #36 - ARIES B-3.19 Siegen SIS\\\\2022-04-05 411MHz Rs(B)_Measurements_Run1 5.00K.txt', 'D:\\\\PhD\\\\QPR Data\\\\2022-04-04 - test #36 - ARIES B-3.19 Siegen SIS\\\\2022-04-05 411MHz Rs(B)_Measurements_Run1 5.50K.txt', 'D:\\\\PhD\\\\QPR Data\\\\2022-04-04 - test #36 - ARIES B-3.19 Siegen SIS\\\\2022-04-05 411MHz Rs(B)_Measurements_Run1 6.00K.txt', 'D:\\\\PhD\\\\QPR Data\\\\2022-04-04 - test #36 - ARIES B-3.19 Siegen SIS\\\\2022-04-05 411MHz Rs(B)_Measurements_Run1 6.50K.txt', 'D:\\\\PhD\\\\QPR Data\\\\2022-04-04 - test #36 - ARIES B-3.19 Siegen SIS\\\\2022-04-05 411MHz Rs(B)_Measurements_Run1 7.00K.txt', 'D:\\\\PhD\\\\QPR Data\\\\2022-04-04 - test #36 - ARIES B-3.19 Siegen SIS\\\\2022-04-05 411MHz Rs(B)_Measurements_Run1 7.25K.txt', 'D:\\\\PhD\\\\QPR Data\\\\2022-04-04 - test #36 - ARIES B-3.19 Siegen SIS\\\\2022-04-05 411MHz Rs(B)_Measurements_Run1 7.50K.txt', 'D:\\\\PhD\\\\QPR Data\\\\2022-04-04 - test #36 - ARIES B-3.19 Siegen SIS\\\\2022-04-05 411MHz Rs(B)_Measurements_Run1 7.75K.txt', 'D:\\\\PhD\\\\QPR Data\\\\2022-04-04 - test #36 - ARIES B-3.19 Siegen SIS\\\\2022-04-05 411MHz Rs(B)_Measurements_Run1 8.00K.txt', 'D:\\\\PhD\\\\QPR Data\\\\2022-04-04 - test #36 - ARIES B-3.19 Siegen SIS\\\\2022-04-05 411MHz Rs(B)_Measurements_Run1 8.25K.txt', 'D:\\\\PhD\\\\QPR Data\\\\2022-04-04 - test #36 - ARIES B-3.19 Siegen SIS\\\\2022-04-06 411MHz Rs(B)_Measurements_Run1 8.25K.txt', 'D:\\\\PhD\\\\QPR Data\\\\2022-04-04 - test #36 - ARIES B-3.19 Siegen SIS\\\\2022-04-06 411MHz Rs(B)_Measurements_Run1 8.50K.txt', 'D:\\\\PhD\\\\QPR Data\\\\2022-04-04 - test #36 - ARIES B-3.19 Siegen SIS\\\\2022-04-06 411MHz Rs(B)_Measurements_Run1 8.60K.txt', 'D:\\\\PhD\\\\QPR Data\\\\2022-04-04 - test #36 - ARIES B-3.19 Siegen SIS\\\\2022-04-06 411MHz Rs(B)_Measurements_Run1 8.70K.txt', 'D:\\\\PhD\\\\QPR Data\\\\2022-04-04 - test #36 - ARIES B-3.19 Siegen SIS\\\\2022-04-06 842MHz Rs(B)_Measurements_Run1 2.00K.txt', 'D:\\\\PhD\\\\QPR Data\\\\2022-04-04 - test #36 - ARIES B-3.19 Siegen SIS\\\\2022-04-06 842MHz Rs(B)_Measurements_Run1 2.25K.txt', 'D:\\\\PhD\\\\QPR Data\\\\2022-04-04 - test #36 - ARIES B-3.19 Siegen SIS\\\\2022-04-06 842MHz Rs(B)_Measurements_Run1 2.50K.txt', 'D:\\\\PhD\\\\QPR Data\\\\2022-04-04 - test #36 - ARIES B-3.19 Siegen SIS\\\\2022-04-06 842MHz Rs(B)_Measurements_Run1 2.75K.txt', 'D:\\\\PhD\\\\QPR Data\\\\2022-04-04 - test #36 - ARIES B-3.19 Siegen SIS\\\\2022-04-06 842MHz Rs(B)_Measurements_Run1 3.00K.txt', 'D:\\\\PhD\\\\QPR Data\\\\2022-04-04 - test #36 - ARIES B-3.19 Siegen SIS\\\\2022-04-06 842MHz Rs(B)_Measurements_Run1 3.50K.txt', 'D:\\\\PhD\\\\QPR Data\\\\2022-04-04 - test #36 - ARIES B-3.19 Siegen SIS\\\\2022-04-06 842MHz Rs(B)_Measurements_Run1 4.00K.txt', 'D:\\\\PhD\\\\QPR Data\\\\2022-04-04 - test #36 - ARIES B-3.19 Siegen SIS\\\\2022-04-06 842MHz Rs(B)_Measurements_Run2_reheat11K 4.00K.txt', 'D:\\\\PhD\\\\QPR Data\\\\2022-04-04 - test #36 - ARIES B-3.19 Siegen SIS\\\\2022-04-06 842MHz Rs(B)_Measurements_Run3_reheat23K 4.00K.txt', 'D:\\\\PhD\\\\QPR Data\\\\2022-04-04 - test #36 - ARIES B-3.19 Siegen SIS\\\\2022-04-06 842MHz Rs(B)_Measurements_Run3_reheat23K 4.50K.txt', 'D:\\\\PhD\\\\QPR Data\\\\2022-04-04 - test #36 - ARIES B-3.19 Siegen SIS\\\\2022-04-06 842MHz Rs(B)_Measurements_Run3_reheat23K 5.00K.txt', 'D:\\\\PhD\\\\QPR Data\\\\2022-04-04 - test #36 - ARIES B-3.19 Siegen SIS\\\\2022-04-06 842MHz Rs(B)_Measurements_Run3_reheat23K 5.50K.txt', 'D:\\\\PhD\\\\QPR Data\\\\2022-04-04 - test #36 - ARIES B-3.19 Siegen SIS\\\\2022-04-06 842MHz Rs(B)_Measurements_Run3_reheat23K 6.00K.txt', 'D:\\\\PhD\\\\QPR Data\\\\2022-04-04 - test #36 - ARIES B-3.19 Siegen SIS\\\\2022-04-06 842MHz Rs(B)_Measurements_Run3_reheat23K 6.50K.txt', 'D:\\\\PhD\\\\QPR Data\\\\2022-04-04 - test #36 - ARIES B-3.19 Siegen SIS\\\\2022-04-06 842MHz Rs(B)_Measurements_Run3_reheat23K 7.00K.txt', 'D:\\\\PhD\\\\QPR Data\\\\2022-04-04 - test #36 - ARIES B-3.19 Siegen SIS\\\\2022-04-06 842MHz Rs(B)_Measurements_Run3_reheat23K 7.50K.txt', 'D:\\\\PhD\\\\QPR Data\\\\2022-04-04 - test #36 - ARIES B-3.19 Siegen SIS\\\\2022-04-06 842MHz test 1.00K.txt', 'D:\\\\PhD\\\\QPR Data\\\\2022-04-04 - test #36 - ARIES B-3.19 Siegen SIS\\\\2022-04-07 1282MHz Rs(B)_Measurements_Run4_reheat24K 2.00K.txt', 'D:\\\\PhD\\\\QPR Data\\\\2022-04-04 - test #36 - ARIES B-3.19 Siegen SIS\\\\2022-04-07 1282MHz Rs(B)_Measurements_Run4_reheat24K 2.25K.txt', 'D:\\\\PhD\\\\QPR Data\\\\2022-04-04 - test #36 - ARIES B-3.19 Siegen SIS\\\\2022-04-07 1282MHz Rs(B)_Measurements_Run4_reheat24K 2.50K.txt', 'D:\\\\PhD\\\\QPR Data\\\\2022-04-04 - test #36 - ARIES B-3.19 Siegen SIS\\\\2022-04-07 1282MHz Rs(B)_Measurements_Run4_reheat24K 2.75K.txt', 'D:\\\\PhD\\\\QPR Data\\\\2022-04-04 - test #36 - ARIES B-3.19 Siegen SIS\\\\2022-04-07 1282MHz Rs(B)_Measurements_Run5_reheat24K 3.00K.txt', 'D:\\\\PhD\\\\QPR Data\\\\2022-04-04 - test #36 - ARIES B-3.19 Siegen SIS\\\\2022-04-07 1282MHz Rs(B)_Measurements_Run5_reheat24K 3.25K.txt', 'D:\\\\PhD\\\\QPR Data\\\\2022-04-04 - test #36 - ARIES B-3.19 Siegen SIS\\\\2022-04-07 1282MHz Rs(B)_Measurements_Run5_reheat24K 3.50K.txt', 'D:\\\\PhD\\\\QPR Data\\\\2022-04-04 - test #36 - ARIES B-3.19 Siegen SIS\\\\2022-04-07 842MHz Rs(B)_Measurements_Run3_reheat23K 7.50K.txt', 'D:\\\\PhD\\\\QPR Data\\\\2022-04-04 - test #36 - ARIES B-3.19 Siegen SIS\\\\2022-04-07 842MHz Rs(B)_Measurements_Run4_reheat24K 2.00K.txt', 'D:\\\\PhD\\\\QPR Data\\\\2022-04-04 - test #36 - ARIES B-3.19 Siegen SIS\\\\2022-04-07 842MHz Rs(B)_Measurements_Run4_reheat24K 2.50K.txt', 'D:\\\\PhD\\\\QPR Data\\\\2022-04-04 - test #36 - ARIES B-3.19 Siegen SIS\\\\2022-04-07 842MHz Rs(B)_Measurements_Run4_reheat24K 3.00K.txt', 'D:\\\\PhD\\\\QPR Data\\\\2022-04-04 - test #36 - ARIES B-3.19 Siegen SIS\\\\2022-04-07 842MHz Rs(B)_Measurements_Run4_reheat24K 3.50K.txt', 'D:\\\\PhD\\\\QPR Data\\\\2022-04-04 - test #36 - ARIES B-3.19 Siegen SIS\\\\2022-04-07 842MHz Rs(B)_Measurements_Run4_reheat24K 4.00K.txt', 'D:\\\\PhD\\\\QPR Data\\\\2022-04-04 - test #36 - ARIES B-3.19 Siegen SIS\\\\2022-04-07 842MHz Rs(B)_Measurements_Run4_reheat24K 7.50K.txt', 'D:\\\\PhD\\\\QPR Data\\\\2022-04-04 - test #36 - ARIES B-3.19 Siegen SIS\\\\2022-04-07 842MHz Rs(B)_Measurements_Run4_reheat24K 8.00K.txt', 'D:\\\\PhD\\\\QPR Data\\\\2022-04-04 - test #36 - ARIES B-3.19 Siegen SIS\\\\2022-04-07 842MHz Rs(B)_Measurements_Run4_reheat24K 8.25K.txt', 'D:\\\\PhD\\\\QPR Data\\\\2022-04-04 - test #36 - ARIES B-3.19 Siegen SIS\\\\2022-04-07 842MHz Rs(B)_Measurements_Run4_reheat24K 8.50K.txt', 'D:\\\\PhD\\\\QPR Data\\\\2022-04-04 - test #36 - ARIES B-3.19 Siegen SIS\\\\2022-04-08 1282MHz B_max 1.00K.txt', 'D:\\\\PhD\\\\QPR Data\\\\2022-04-04 - test #36 - ARIES B-3.19 Siegen SIS\\\\2022-04-08 1282MHz Heat_Cycle1_fast 1.00K.txt', 'D:\\\\PhD\\\\QPR Data\\\\2022-04-04 - test #36 - ARIES B-3.19 Siegen SIS\\\\2022-04-08 1282MHz Heat_cycle2_slow 1.00K.txt', 'D:\\\\PhD\\\\QPR Data\\\\2022-04-04 - test #36 - ARIES B-3.19 Siegen SIS\\\\2022-04-08 1282MHz Heat_cycle2_slow_back 1.00K.txt', 'D:\\\\PhD\\\\QPR Data\\\\2022-04-04 - test #36 - ARIES B-3.19 Siegen SIS\\\\2022-04-08 1282MHz Rs(B)_Measurements_Run5_reheat24K 4.00K.txt', 'D:\\\\PhD\\\\QPR Data\\\\2022-04-04 - test #36 - ARIES B-3.19 Siegen SIS\\\\2022-04-08 1282MHz Rs(B)_Measurements_Run5_reheat24K 4.50K.txt', 'D:\\\\PhD\\\\QPR Data\\\\2022-04-04 - test #36 - ARIES B-3.19 Siegen SIS\\\\2022-04-08 1282MHz Rs(B)_Measurements_Run6_procquench1.2mkT 4.50K.txt', 'D:\\\\PhD\\\\QPR Data\\\\2022-04-04 - test #36 - ARIES B-3.19 Siegen SIS\\\\2022-04-08 1282MHz Rs(B)_Measurements_Run7_reheat24K 4.50K.txt', 'D:\\\\PhD\\\\QPR Data\\\\2022-04-04 - test #36 - ARIES B-3.19 Siegen SIS\\\\2022-04-08 1282MHz Rs(B)_Measurements_Run7_reheat24K 5.00K.txt', 'D:\\\\PhD\\\\QPR Data\\\\2022-04-04 - test #36 - ARIES B-3.19 Siegen SIS\\\\2022-04-08 1282MHz Rs(B)_Measurements_Run7_reheat24K 5.50K.txt', 'D:\\\\PhD\\\\QPR Data\\\\2022-04-04 - test #36 - ARIES B-3.19 Siegen SIS\\\\2022-04-08 1282MHz Rs(B)_Measurements_Run7_reheat24K 6.00K.txt', 'D:\\\\PhD\\\\QPR Data\\\\2022-04-04 - test #36 - ARIES B-3.19 Siegen SIS\\\\2022-04-08 1282MHz Rs(B)_Measurements_Run7_reheat24K 6.50K.txt', 'D:\\\\PhD\\\\QPR Data\\\\2022-04-04 - test #36 - ARIES B-3.19 Siegen SIS\\\\2022-04-08 1282MHz Rs(B)_Measurements_Run7_reheat24K 7.00K.txt', 'D:\\\\PhD\\\\QPR Data\\\\2022-04-04 - test #36 - ARIES B-3.19 Siegen SIS\\\\2022-04-08 1282MHz Rs(B)_Measurements_Run7_reheat24K 7.50K.txt', 'D:\\\\PhD\\\\QPR Data\\\\2022-04-04 - test #36 - ARIES B-3.19 Siegen SIS\\\\2022-04-08 1282MHz Rs(B)_Measurements_Run7_reheat24K 8.00K.txt', 'D:\\\\PhD\\\\QPR Data\\\\2022-04-04 - test #36 - ARIES B-3.19 Siegen SIS\\\\2022-04-08 1282MHz Rs(B)_Measurements_Run7_reheat24K 8.25K.txt', 'D:\\\\PhD\\\\QPR Data\\\\2022-04-04 - test #36 - ARIES B-3.19 Siegen SIS\\\\2022-04-08 1282MHz Rs(B)_Measurements_Run8_extraB 4.50K.txt', 'D:\\\\PhD\\\\QPR Data\\\\2022-04-04 - test #36 - ARIES B-3.19 Siegen SIS\\\\2022-04-08 1MHz FvsT 1.00K.txt', 'D:\\\\PhD\\\\QPR Data\\\\2022-04-04 - test #36 - ARIES B-3.19 Siegen SIS\\\\2022-04-08 411MHz B_max 1.00K.txt', 'D:\\\\PhD\\\\QPR Data\\\\2022-04-04 - test #36 - ARIES B-3.19 Siegen SIS\\\\2022-04-08 411MHz Rs(B)_Measurements_Run9_Heat_cycle2_slow 2.50K.txt', 'D:\\\\PhD\\\\QPR Data\\\\2022-04-04 - test #36 - ARIES B-3.19 Siegen SIS\\\\2022-04-08 411MHz Rs(B)_Measurements_Run9_Heat_cycle2_slow 4.50K.txt', 'D:\\\\PhD\\\\QPR Data\\\\2022-04-04 - test #36 - ARIES B-3.19 Siegen SIS\\\\2022-04-09 1MHz FvsT 1.00K.txt', 'D:\\\\PhD\\\\QPR Data\\\\2022-04-04 - test #36 - ARIES B-3.19 Siegen SIS\\\\2022-04-09 1MHz WarmUp 1.00K.txt']\n"
     ]
    }
   ],
   "source": [
    "import glob, os\n",
    "\n",
    "TestPath=r\"D:\\PhD\\QPR Data\\2022-04-04 - test #36 - ARIES B-3.19 Siegen SIS\"\n",
    "\n",
    "pattern = os.path.join(TestPath, \"*MHz*.txt\")\n",
    "matching_files = glob.glob(pattern)\n",
    "\n",
    "for file in matching_files:\n",
    "    print(file)"
   ]
  }
 ],
 "metadata": {
  "kernelspec": {
   "display_name": "Python 3",
   "language": "python",
   "name": "python3"
  },
  "language_info": {
   "codemirror_mode": {
    "name": "ipython",
    "version": 3
   },
   "file_extension": ".py",
   "mimetype": "text/x-python",
   "name": "python",
   "nbconvert_exporter": "python",
   "pygments_lexer": "ipython3",
   "version": "3.12.3"
  }
 },
 "nbformat": 4,
 "nbformat_minor": 2
}
