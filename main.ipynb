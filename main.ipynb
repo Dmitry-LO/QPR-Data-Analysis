{
 "cells": [
  {
   "cell_type": "code",
   "execution_count": null,
   "metadata": {},
   "outputs": [],
   "source": [
    "import pandas as pd\n",
    "import matplotlib.pyplot as plt\n",
    "\n",
    "# Assuming 'nfile' is the DataFrame from the combined .txt files\n",
    "# Example data structure\n",
    "# nfile = pd.read_csv(\"combined_output.csv\")\n",
    "\n",
    "# Define intervals for 'Peak Field on Sample [mT]'\n",
    "intervals = [\n",
    "    {\"center\": 20, \"tolerance\": 3},\n",
    "    {\"center\": 30, \"tolerance\": 3},\n",
    "    {\"center\": 40, \"tolerance\": 5},\n",
    "    {\"center\": 50, \"tolerance\": 5}\n",
    "]\n",
    "\n",
    "results = []\n",
    "\n",
    "# Calculate mean and standard deviation for each interval\n",
    "for interval in intervals:\n",
    "    lower_bound = interval[\"center\"] - interval[\"tolerance\"]\n",
    "    upper_bound = interval[\"center\"] + interval[\"tolerance\"]\n",
    "    \n",
    "    # Filter data within the interval\n",
    "    filtered_data = nfile[\n",
    "        (nfile[\"Peak Field on Sample [mT]\"] >= lower_bound) & \n",
    "        (nfile[\"Peak Field on Sample [mT]\"] <= upper_bound)\n",
    "    ]\n",
    "    \n",
    "    # Calculate mean and standard deviation\n",
    "    mean_resistance = filtered_data[\"Surface Resistance [nOhm]\"].mean()\n",
    "    std_resistance = filtered_data[\"Surface Resistance [nOhm]\"].std()\n",
    "    \n",
    "    # Append results\n",
    "    results.append({\n",
    "        \"Interval\": f\"{interval['center']}±{interval['tolerance']}\",\n",
    "        \"Mean Resistance (nOhm)\": mean_resistance,\n",
    "        \"Std Resistance (nOhm)\": std_resistance\n",
    "    })\n",
    "\n",
    "# Create a new DataFrame for results\n",
    "results_df = pd.DataFrame(results)\n",
    "\n",
    "# Save the results to a CSV file\n",
    "results_df.to_csv(\"resistance_analysis.csv\", index=False)\n",
    "\n",
    "# Print the results\n",
    "print(results_df)\n",
    "\n",
    "# Plot the results\n",
    "plt.errorbar(\n",
    "    results_df[\"Interval\"],\n",
    "    results_df[\"Mean Resistance (nOhm)\"],\n",
    "    yerr=results_df[\"Std Resistance (nOhm)\"],\n",
    "    fmt='o',\n",
    "    capsize=5,\n",
    "    label=\"Surface Resistance\"\n",
    ")\n",
    "\n",
    "plt.title(\"Surface Resistance Analysis\")\n",
    "plt.xlabel(\"Peak Field Interval [mT]\")\n",
    "plt.ylabel(\"Surface Resistance [nOhm]\")\n",
    "plt.grid(True)\n",
    "plt.legend()\n",
    "plt.savefig(\"resistance_analysis_plot.pdf\", format=\"pdf\", bbox_inches=\"tight\")\n",
    "plt.show()\n"
   ]
  },
  {
   "cell_type": "code",
   "execution_count": 1,
   "metadata": {},
   "outputs": [
    {
     "name": "stdout",
     "output_type": "stream",
     "text": [
      "File D:\\PhD\\QPR Data\\2022-04-04 - test #36 - ARIES B-3.19 Siegen SIS\\2022-04-04 411MHz test run 2.00K.txt contains an all-NaN DataFrame and will be skipped.\n",
      "File D:\\PhD\\QPR Data\\2022-04-04 - test #36 - ARIES B-3.19 Siegen SIS\\2022-04-06 842MHz test 1.00K.txt contains an all-NaN DataFrame and will be skipped.\n",
      "File D:\\PhD\\QPR Data\\2022-04-04 - test #36 - ARIES B-3.19 Siegen SIS\\2022-04-07 842MHz Rs(B)_Measurements_Run3_reheat23K 7.50K.txt contains an all-NaN DataFrame and will be skipped.\n",
      "File D:\\PhD\\QPR Data\\2022-04-04 - test #36 - ARIES B-3.19 Siegen SIS\\2022-04-08 1282MHz B_max 1.00K.txt contains an all-NaN DataFrame and will be skipped.\n",
      "File D:\\PhD\\QPR Data\\2022-04-04 - test #36 - ARIES B-3.19 Siegen SIS\\2022-04-08 1282MHz Heat_Cycle1_fast 1.00K.txt contains an all-NaN DataFrame and will be skipped.\n",
      "File D:\\PhD\\QPR Data\\2022-04-04 - test #36 - ARIES B-3.19 Siegen SIS\\2022-04-08 1282MHz Heat_cycle2_slow 1.00K.txt contains an all-NaN DataFrame and will be skipped.\n",
      "File D:\\PhD\\QPR Data\\2022-04-04 - test #36 - ARIES B-3.19 Siegen SIS\\2022-04-08 1282MHz Heat_cycle2_slow_back 1.00K.txt contains an all-NaN DataFrame and will be skipped.\n",
      "File D:\\PhD\\QPR Data\\2022-04-04 - test #36 - ARIES B-3.19 Siegen SIS\\2022-04-08 1MHz FvsT 1.00K.txt contains an all-NaN DataFrame and will be skipped.\n",
      "File D:\\PhD\\QPR Data\\2022-04-04 - test #36 - ARIES B-3.19 Siegen SIS\\2022-04-08 411MHz B_max 1.00K.txt contains an all-NaN DataFrame and will be skipped.\n",
      "File D:\\PhD\\QPR Data\\2022-04-04 - test #36 - ARIES B-3.19 Siegen SIS\\2022-04-09 1MHz WarmUp 1.00K.txt contains an all-NaN DataFrame and will be skipped.\n",
      "\u001b[1m\u001b[91mExeption raised: \u001b[0m\u001b[0mname 'valid_nfilelist' is not defined\n",
      "<class 'pandas.core.frame.DataFrame'>\n",
      "RangeIndex: 0 entries\n",
      "Empty DataFrame\n",
      "None\n"
     ]
    }
   ],
   "source": [
    "import glob, os\n",
    "import pandas as pd\n",
    "import numpy as np\n",
    "import matplotlib.pyplot as plt\n",
    "from funclib.importf import *\n",
    "\n",
    "# File path\n",
    "Test1 = HandleTest(r\"D:\\PhD\\QPR Data\\2022-04-04 - test #36 - ARIES B-3.19 Siegen SIS\")\n",
    "Test1Data = Test1.LoadData(pattern=\"*MHz*.txt\")\n",
    "\n",
    "#pd.set_option('display.max_rows', 100)\n",
    "print(Test1Data.info())\n",
    "\n",
    "#Test1Data.plot.scatter(x=\"Peak Field on Sample [mT]\", y=\"Surface Resistance [nOhm]\")\n",
    "#plt.show()\n"
   ]
  },
  {
   "cell_type": "code",
   "execution_count": 1,
   "metadata": {},
   "outputs": [
    {
     "name": "stdout",
     "output_type": "stream",
     "text": [
      "Is the DataFrame empty? True\n",
      "Is the DataFrame all-NaN? True\n",
      "Empty DataFrame\n",
      "Columns: [Date, Time, Set Temp [K], Set Freq [Hz], Duty Cycle [%], Pulse Period [ms], P_forw (giga), P_refl (giga), P_trans (giga), CW Power (Tek), Pulse Power (Tek), Peak Power (Tek), DC meas [%] (Tek), P_trans for calc, Freq. (meas.) [Hz], Q_FPC, Q_Probe, c1, c2, Heater Resistance [Ohm], Ref. Voltage, Heater Voltage, Heater Power [mW], P_diss [mW], Peak Field on Sample [mT], Surface Resistance [nOhm], LS336 A [K], LS336 B [K], LS336 C [K], LS336 D [K], Magnetic Field [uT], PLL Attenuator [dB], PLL Phase [deg], Keysight forw [dBm], Keysight refl [dBm], Keysight trans [dBm], DC current [mA], DC Ref current [mA], Freq Hameg [Hz]]\n",
      "Index: []\n",
      "\n",
      "[0 rows x 39 columns]\n"
     ]
    }
   ],
   "source": [
    "import pandas as pd\n",
    "\n",
    "# Path to the file\n",
    "file_path = \"2022-04-04 411MHz test run 2.00K.txt\"\n",
    "\n",
    "# Read the file into a DataFrame\n",
    "df = pd.read_csv(\n",
    "    file_path,\n",
    "    sep=\"\\t\", \n",
    "    header=0,\n",
    "    na_values=\"NaN\",\n",
    ")\n",
    "\n",
    "# Check if the DataFrame is all-NaN\n",
    "print(\"Is the DataFrame empty?\", df.empty)\n",
    "print(\"Is the DataFrame all-NaN?\", df.isna().all().all())\n",
    "print(df)"
   ]
  }
 ],
 "metadata": {
  "kernelspec": {
   "display_name": "Python 3",
   "language": "python",
   "name": "python3"
  },
  "language_info": {
   "codemirror_mode": {
    "name": "ipython",
    "version": 3
   },
   "file_extension": ".py",
   "mimetype": "text/x-python",
   "name": "python",
   "nbconvert_exporter": "python",
   "pygments_lexer": "ipython3",
   "version": "3.12.3"
  }
 },
 "nbformat": 4,
 "nbformat_minor": 2
}
